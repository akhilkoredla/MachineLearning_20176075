{
 "cells": [
  {
   "cell_type": "code",
   "execution_count": 56,
   "metadata": {
    "colab": {
     "base_uri": "https://localhost:8080/",
     "height": 35
    },
    "colab_type": "code",
    "id": "3CFohBNq8xtX",
    "outputId": "bd66ada3-6758-4905-c66e-a0981999a0bb"
   },
   "outputs": [
    {
     "name": "stdout",
     "output_type": "stream",
     "text": [
      "Requirement already satisfied: missingpy in /usr/local/lib/python3.6/dist-packages (0.2.0)\n"
     ]
    }
   ],
   "source": [
    "#importing all the required libraries \n",
    "!pip install missingpy\n",
    "import io\n",
    "from google.colab import files\n",
    "import numpy as np\n",
    "import pandas as pd\n",
    "import seaborn as sns\n",
    "import warnings\n",
    "warnings.filterwarnings('ignore')\n",
    "import matplotlib.pyplot as plt\n",
    "from sklearn import preprocessing\n",
    "from sklearn.model_selection import train_test_split\n",
    "from missingpy import KNNImputer\n",
    "from sklearn.decomposition import PCA\n",
    "import fancyimpute\n",
    "from fancyimpute import KNN\n",
    "from sklearn.preprocessing import StandardScaler\n",
    "from scipy.linalg import eigh\n",
    "from sklearn import decomposition"
   ]
  },
  {
   "cell_type": "code",
   "execution_count": 3,
   "metadata": {
    "colab": {
     "base_uri": "https://localhost:8080/",
     "height": 77,
     "resources": {
      "http://localhost:8080/nbextensions/google.colab/files.js": {
       "data": "Ly8gQ29weXJpZ2h0IDIwMTcgR29vZ2xlIExMQwovLwovLyBMaWNlbnNlZCB1bmRlciB0aGUgQXBhY2hlIExpY2Vuc2UsIFZlcnNpb24gMi4wICh0aGUgIkxpY2Vuc2UiKTsKLy8geW91IG1heSBub3QgdXNlIHRoaXMgZmlsZSBleGNlcHQgaW4gY29tcGxpYW5jZSB3aXRoIHRoZSBMaWNlbnNlLgovLyBZb3UgbWF5IG9idGFpbiBhIGNvcHkgb2YgdGhlIExpY2Vuc2UgYXQKLy8KLy8gICAgICBodHRwOi8vd3d3LmFwYWNoZS5vcmcvbGljZW5zZXMvTElDRU5TRS0yLjAKLy8KLy8gVW5sZXNzIHJlcXVpcmVkIGJ5IGFwcGxpY2FibGUgbGF3IG9yIGFncmVlZCB0byBpbiB3cml0aW5nLCBzb2Z0d2FyZQovLyBkaXN0cmlidXRlZCB1bmRlciB0aGUgTGljZW5zZSBpcyBkaXN0cmlidXRlZCBvbiBhbiAiQVMgSVMiIEJBU0lTLAovLyBXSVRIT1VUIFdBUlJBTlRJRVMgT1IgQ09ORElUSU9OUyBPRiBBTlkgS0lORCwgZWl0aGVyIGV4cHJlc3Mgb3IgaW1wbGllZC4KLy8gU2VlIHRoZSBMaWNlbnNlIGZvciB0aGUgc3BlY2lmaWMgbGFuZ3VhZ2UgZ292ZXJuaW5nIHBlcm1pc3Npb25zIGFuZAovLyBsaW1pdGF0aW9ucyB1bmRlciB0aGUgTGljZW5zZS4KCi8qKgogKiBAZmlsZW92ZXJ2aWV3IEhlbHBlcnMgZm9yIGdvb2dsZS5jb2xhYiBQeXRob24gbW9kdWxlLgogKi8KKGZ1bmN0aW9uKHNjb3BlKSB7CmZ1bmN0aW9uIHNwYW4odGV4dCwgc3R5bGVBdHRyaWJ1dGVzID0ge30pIHsKICBjb25zdCBlbGVtZW50ID0gZG9jdW1lbnQuY3JlYXRlRWxlbWVudCgnc3BhbicpOwogIGVsZW1lbnQudGV4dENvbnRlbnQgPSB0ZXh0OwogIGZvciAoY29uc3Qga2V5IG9mIE9iamVjdC5rZXlzKHN0eWxlQXR0cmlidXRlcykpIHsKICAgIGVsZW1lbnQuc3R5bGVba2V5XSA9IHN0eWxlQXR0cmlidXRlc1trZXldOwogIH0KICByZXR1cm4gZWxlbWVudDsKfQoKLy8gTWF4IG51bWJlciBvZiBieXRlcyB3aGljaCB3aWxsIGJlIHVwbG9hZGVkIGF0IGEgdGltZS4KY29uc3QgTUFYX1BBWUxPQURfU0laRSA9IDEwMCAqIDEwMjQ7Ci8vIE1heCBhbW91bnQgb2YgdGltZSB0byBibG9jayB3YWl0aW5nIGZvciB0aGUgdXNlci4KY29uc3QgRklMRV9DSEFOR0VfVElNRU9VVF9NUyA9IDMwICogMTAwMDsKCmZ1bmN0aW9uIF91cGxvYWRGaWxlcyhpbnB1dElkLCBvdXRwdXRJZCkgewogIGNvbnN0IHN0ZXBzID0gdXBsb2FkRmlsZXNTdGVwKGlucHV0SWQsIG91dHB1dElkKTsKICBjb25zdCBvdXRwdXRFbGVtZW50ID0gZG9jdW1lbnQuZ2V0RWxlbWVudEJ5SWQob3V0cHV0SWQpOwogIC8vIENhY2hlIHN0ZXBzIG9uIHRoZSBvdXRwdXRFbGVtZW50IHRvIG1ha2UgaXQgYXZhaWxhYmxlIGZvciB0aGUgbmV4dCBjYWxsCiAgLy8gdG8gdXBsb2FkRmlsZXNDb250aW51ZSBmcm9tIFB5dGhvbi4KICBvdXRwdXRFbGVtZW50LnN0ZXBzID0gc3RlcHM7CgogIHJldHVybiBfdXBsb2FkRmlsZXNDb250aW51ZShvdXRwdXRJZCk7Cn0KCi8vIFRoaXMgaXMgcm91Z2hseSBhbiBhc3luYyBnZW5lcmF0b3IgKG5vdCBzdXBwb3J0ZWQgaW4gdGhlIGJyb3dzZXIgeWV0KSwKLy8gd2hlcmUgdGhlcmUgYXJlIG11bHRpcGxlIGFzeW5jaHJvbm91cyBzdGVwcyBhbmQgdGhlIFB5dGhvbiBzaWRlIGlzIGdvaW5nCi8vIHRvIHBvbGwgZm9yIGNvbXBsZXRpb24gb2YgZWFjaCBzdGVwLgovLyBUaGlzIHVzZXMgYSBQcm9taXNlIHRvIGJsb2NrIHRoZSBweXRob24gc2lkZSBvbiBjb21wbGV0aW9uIG9mIGVhY2ggc3RlcCwKLy8gdGhlbiBwYXNzZXMgdGhlIHJlc3VsdCBvZiB0aGUgcHJldmlvdXMgc3RlcCBhcyB0aGUgaW5wdXQgdG8gdGhlIG5leHQgc3RlcC4KZnVuY3Rpb24gX3VwbG9hZEZpbGVzQ29udGludWUob3V0cHV0SWQpIHsKICBjb25zdCBvdXRwdXRFbGVtZW50ID0gZG9jdW1lbnQuZ2V0RWxlbWVudEJ5SWQob3V0cHV0SWQpOwogIGNvbnN0IHN0ZXBzID0gb3V0cHV0RWxlbWVudC5zdGVwczsKCiAgY29uc3QgbmV4dCA9IHN0ZXBzLm5leHQob3V0cHV0RWxlbWVudC5sYXN0UHJvbWlzZVZhbHVlKTsKICByZXR1cm4gUHJvbWlzZS5yZXNvbHZlKG5leHQudmFsdWUucHJvbWlzZSkudGhlbigodmFsdWUpID0+IHsKICAgIC8vIENhY2hlIHRoZSBsYXN0IHByb21pc2UgdmFsdWUgdG8gbWFrZSBpdCBhdmFpbGFibGUgdG8gdGhlIG5leHQKICAgIC8vIHN0ZXAgb2YgdGhlIGdlbmVyYXRvci4KICAgIG91dHB1dEVsZW1lbnQubGFzdFByb21pc2VWYWx1ZSA9IHZhbHVlOwogICAgcmV0dXJuIG5leHQudmFsdWUucmVzcG9uc2U7CiAgfSk7Cn0KCi8qKgogKiBHZW5lcmF0b3IgZnVuY3Rpb24gd2hpY2ggaXMgY2FsbGVkIGJldHdlZW4gZWFjaCBhc3luYyBzdGVwIG9mIHRoZSB1cGxvYWQKICogcHJvY2Vzcy4KICogQHBhcmFtIHtzdHJpbmd9IGlucHV0SWQgRWxlbWVudCBJRCBvZiB0aGUgaW5wdXQgZmlsZSBwaWNrZXIgZWxlbWVudC4KICogQHBhcmFtIHtzdHJpbmd9IG91dHB1dElkIEVsZW1lbnQgSUQgb2YgdGhlIG91dHB1dCBkaXNwbGF5LgogKiBAcmV0dXJuIHshSXRlcmFibGU8IU9iamVjdD59IEl0ZXJhYmxlIG9mIG5leHQgc3RlcHMuCiAqLwpmdW5jdGlvbiogdXBsb2FkRmlsZXNTdGVwKGlucHV0SWQsIG91dHB1dElkKSB7CiAgY29uc3QgaW5wdXRFbGVtZW50ID0gZG9jdW1lbnQuZ2V0RWxlbWVudEJ5SWQoaW5wdXRJZCk7CiAgaW5wdXRFbGVtZW50LmRpc2FibGVkID0gZmFsc2U7CgogIGNvbnN0IG91dHB1dEVsZW1lbnQgPSBkb2N1bWVudC5nZXRFbGVtZW50QnlJZChvdXRwdXRJZCk7CiAgb3V0cHV0RWxlbWVudC5pbm5lckhUTUwgPSAnJzsKCiAgY29uc3QgcGlja2VkUHJvbWlzZSA9IG5ldyBQcm9taXNlKChyZXNvbHZlKSA9PiB7CiAgICBpbnB1dEVsZW1lbnQuYWRkRXZlbnRMaXN0ZW5lcignY2hhbmdlJywgKGUpID0+IHsKICAgICAgcmVzb2x2ZShlLnRhcmdldC5maWxlcyk7CiAgICB9KTsKICB9KTsKCiAgY29uc3QgY2FuY2VsID0gZG9jdW1lbnQuY3JlYXRlRWxlbWVudCgnYnV0dG9uJyk7CiAgaW5wdXRFbGVtZW50LnBhcmVudEVsZW1lbnQuYXBwZW5kQ2hpbGQoY2FuY2VsKTsKICBjYW5jZWwudGV4dENvbnRlbnQgPSAnQ2FuY2VsIHVwbG9hZCc7CiAgY29uc3QgY2FuY2VsUHJvbWlzZSA9IG5ldyBQcm9taXNlKChyZXNvbHZlKSA9PiB7CiAgICBjYW5jZWwub25jbGljayA9ICgpID0+IHsKICAgICAgcmVzb2x2ZShudWxsKTsKICAgIH07CiAgfSk7CgogIC8vIENhbmNlbCB1cGxvYWQgaWYgdXNlciBoYXNuJ3QgcGlja2VkIGFueXRoaW5nIGluIHRpbWVvdXQuCiAgY29uc3QgdGltZW91dFByb21pc2UgPSBuZXcgUHJvbWlzZSgocmVzb2x2ZSkgPT4gewogICAgc2V0VGltZW91dCgoKSA9PiB7CiAgICAgIHJlc29sdmUobnVsbCk7CiAgICB9LCBGSUxFX0NIQU5HRV9USU1FT1VUX01TKTsKICB9KTsKCiAgLy8gV2FpdCBmb3IgdGhlIHVzZXIgdG8gcGljayB0aGUgZmlsZXMuCiAgY29uc3QgZmlsZXMgPSB5aWVsZCB7CiAgICBwcm9taXNlOiBQcm9taXNlLnJhY2UoW3BpY2tlZFByb21pc2UsIHRpbWVvdXRQcm9taXNlLCBjYW5jZWxQcm9taXNlXSksCiAgICByZXNwb25zZTogewogICAgICBhY3Rpb246ICdzdGFydGluZycsCiAgICB9CiAgfTsKCiAgaWYgKCFmaWxlcykgewogICAgcmV0dXJuIHsKICAgICAgcmVzcG9uc2U6IHsKICAgICAgICBhY3Rpb246ICdjb21wbGV0ZScsCiAgICAgIH0KICAgIH07CiAgfQoKICBjYW5jZWwucmVtb3ZlKCk7CgogIC8vIERpc2FibGUgdGhlIGlucHV0IGVsZW1lbnQgc2luY2UgZnVydGhlciBwaWNrcyBhcmUgbm90IGFsbG93ZWQuCiAgaW5wdXRFbGVtZW50LmRpc2FibGVkID0gdHJ1ZTsKCiAgZm9yIChjb25zdCBmaWxlIG9mIGZpbGVzKSB7CiAgICBjb25zdCBsaSA9IGRvY3VtZW50LmNyZWF0ZUVsZW1lbnQoJ2xpJyk7CiAgICBsaS5hcHBlbmQoc3BhbihmaWxlLm5hbWUsIHtmb250V2VpZ2h0OiAnYm9sZCd9KSk7CiAgICBsaS5hcHBlbmQoc3BhbigKICAgICAgICBgKCR7ZmlsZS50eXBlIHx8ICduL2EnfSkgLSAke2ZpbGUuc2l6ZX0gYnl0ZXMsIGAgKwogICAgICAgIGBsYXN0IG1vZGlmaWVkOiAkewogICAgICAgICAgICBmaWxlLmxhc3RNb2RpZmllZERhdGUgPyBmaWxlLmxhc3RNb2RpZmllZERhdGUudG9Mb2NhbGVEYXRlU3RyaW5nKCkgOgogICAgICAgICAgICAgICAgICAgICAgICAgICAgICAgICAgICAnbi9hJ30gLSBgKSk7CiAgICBjb25zdCBwZXJjZW50ID0gc3BhbignMCUgZG9uZScpOwogICAgbGkuYXBwZW5kQ2hpbGQocGVyY2VudCk7CgogICAgb3V0cHV0RWxlbWVudC5hcHBlbmRDaGlsZChsaSk7CgogICAgY29uc3QgZmlsZURhdGFQcm9taXNlID0gbmV3IFByb21pc2UoKHJlc29sdmUpID0+IHsKICAgICAgY29uc3QgcmVhZGVyID0gbmV3IEZpbGVSZWFkZXIoKTsKICAgICAgcmVhZGVyLm9ubG9hZCA9IChlKSA9PiB7CiAgICAgICAgcmVzb2x2ZShlLnRhcmdldC5yZXN1bHQpOwogICAgICB9OwogICAgICByZWFkZXIucmVhZEFzQXJyYXlCdWZmZXIoZmlsZSk7CiAgICB9KTsKICAgIC8vIFdhaXQgZm9yIHRoZSBkYXRhIHRvIGJlIHJlYWR5LgogICAgbGV0IGZpbGVEYXRhID0geWllbGQgewogICAgICBwcm9taXNlOiBmaWxlRGF0YVByb21pc2UsCiAgICAgIHJlc3BvbnNlOiB7CiAgICAgICAgYWN0aW9uOiAnY29udGludWUnLAogICAgICB9CiAgICB9OwoKICAgIC8vIFVzZSBhIGNodW5rZWQgc2VuZGluZyB0byBhdm9pZCBtZXNzYWdlIHNpemUgbGltaXRzLiBTZWUgYi82MjExNTY2MC4KICAgIGxldCBwb3NpdGlvbiA9IDA7CiAgICB3aGlsZSAocG9zaXRpb24gPCBmaWxlRGF0YS5ieXRlTGVuZ3RoKSB7CiAgICAgIGNvbnN0IGxlbmd0aCA9IE1hdGgubWluKGZpbGVEYXRhLmJ5dGVMZW5ndGggLSBwb3NpdGlvbiwgTUFYX1BBWUxPQURfU0laRSk7CiAgICAgIGNvbnN0IGNodW5rID0gbmV3IFVpbnQ4QXJyYXkoZmlsZURhdGEsIHBvc2l0aW9uLCBsZW5ndGgpOwogICAgICBwb3NpdGlvbiArPSBsZW5ndGg7CgogICAgICBjb25zdCBiYXNlNjQgPSBidG9hKFN0cmluZy5mcm9tQ2hhckNvZGUuYXBwbHkobnVsbCwgY2h1bmspKTsKICAgICAgeWllbGQgewogICAgICAgIHJlc3BvbnNlOiB7CiAgICAgICAgICBhY3Rpb246ICdhcHBlbmQnLAogICAgICAgICAgZmlsZTogZmlsZS5uYW1lLAogICAgICAgICAgZGF0YTogYmFzZTY0LAogICAgICAgIH0sCiAgICAgIH07CiAgICAgIHBlcmNlbnQudGV4dENvbnRlbnQgPQogICAgICAgICAgYCR7TWF0aC5yb3VuZCgocG9zaXRpb24gLyBmaWxlRGF0YS5ieXRlTGVuZ3RoKSAqIDEwMCl9JSBkb25lYDsKICAgIH0KICB9CgogIC8vIEFsbCBkb25lLgogIHlpZWxkIHsKICAgIHJlc3BvbnNlOiB7CiAgICAgIGFjdGlvbjogJ2NvbXBsZXRlJywKICAgIH0KICB9Owp9CgpzY29wZS5nb29nbGUgPSBzY29wZS5nb29nbGUgfHwge307CnNjb3BlLmdvb2dsZS5jb2xhYiA9IHNjb3BlLmdvb2dsZS5jb2xhYiB8fCB7fTsKc2NvcGUuZ29vZ2xlLmNvbGFiLl9maWxlcyA9IHsKICBfdXBsb2FkRmlsZXMsCiAgX3VwbG9hZEZpbGVzQ29udGludWUsCn07Cn0pKHNlbGYpOwo=",
       "headers": [
        [
         "content-type",
         "application/javascript"
        ]
       ],
       "ok": true,
       "status": 200,
       "status_text": "OK"
      }
     }
    },
    "colab_type": "code",
    "id": "1YgKjP4A9DIy",
    "outputId": "458997b9-a164-463b-a481-04de7e680a43"
   },
   "outputs": [
    {
     "data": {
      "text/html": [
       "\n",
       "     <input type=\"file\" id=\"files-cd50bbd9-3421-4ac4-8331-dbad8c89d8c5\" name=\"files[]\" multiple disabled />\n",
       "     <output id=\"result-cd50bbd9-3421-4ac4-8331-dbad8c89d8c5\">\n",
       "      Upload widget is only available when the cell has been executed in the\n",
       "      current browser session. Please rerun this cell to enable.\n",
       "      </output>\n",
       "      <script src=\"/nbextensions/google.colab/files.js\"></script> "
      ],
      "text/plain": [
       "<IPython.core.display.HTML object>"
      ]
     },
     "metadata": {
      "tags": []
     },
     "output_type": "display_data"
    },
    {
     "name": "stdout",
     "output_type": "stream",
     "text": [
      "Saving secom.data to secom.data\n"
     ]
    }
   ],
   "source": [
    "#Uploading file to Google Colab\n",
    "uploaded = files.upload()"
   ]
  },
  {
   "cell_type": "code",
   "execution_count": 0,
   "metadata": {
    "colab": {},
    "colab_type": "code",
    "id": "xaFhkh8q9Rq9"
   },
   "outputs": [],
   "source": [
    "#Reading that uploaded file to colab\n",
    "data_secom = pd.read_csv(io.BytesIO(uploaded['secom.data']),delimiter=\" \",header=None)\n",
    "# Dataset is now stored in a Pandas Dataframe"
   ]
  },
  {
   "cell_type": "markdown",
   "metadata": {
    "colab_type": "text",
    "id": "mTZoFhCbD6fz"
   },
   "source": [
    "### Data Exploration"
   ]
  },
  {
   "cell_type": "code",
   "execution_count": 144,
   "metadata": {
    "colab": {
     "base_uri": "https://localhost:8080/",
     "height": 182
    },
    "colab_type": "code",
    "id": "JU9kYxOO-dlF",
    "outputId": "1cbf495a-e941-4d0b-f14b-b88fe810739c"
   },
   "outputs": [
    {
     "name": "stdout",
     "output_type": "stream",
     "text": [
      "       0        1          2          3    ...     586     587     588       589\n",
      "0  3030.93  2564.00  2187.7333  1411.1265  ...     NaN     NaN     NaN       NaN\n",
      "1  3095.78  2465.14  2230.4222  1463.6606  ...  0.0096  0.0201  0.0060  208.2045\n",
      "2  2932.61  2559.94  2186.4111  1698.0172  ...  0.0584  0.0484  0.0148   82.8602\n",
      "3  2988.72  2479.90  2199.0333   909.7926  ...  0.0202  0.0149  0.0044   73.8432\n",
      "4  3032.24  2502.87  2233.3667  1326.5200  ...  0.0202  0.0149  0.0044   73.8432\n",
      "\n",
      "[5 rows x 590 columns]\n",
      "(1567, 590)\n"
     ]
    }
   ],
   "source": [
    "print(data_secom.head())\n",
    "print(data_secom.shape)"
   ]
  },
  {
   "cell_type": "code",
   "execution_count": 145,
   "metadata": {
    "colab": {
     "base_uri": "https://localhost:8080/",
     "height": 219
    },
    "colab_type": "code",
    "id": "ehp9tdNv_ARS",
    "outputId": "cecf2970-d030-41dc-9041-6de726f494b0"
   },
   "outputs": [
    {
     "name": "stdout",
     "output_type": "stream",
     "text": [
      "               0            1    ...          588          589\n",
      "count  1561.000000  1560.000000  ...  1566.000000  1566.000000\n",
      "mean   3014.452896  2495.850231  ...     0.005283    99.670066\n",
      "std      73.621787    80.407705  ...     0.002867    93.891919\n",
      "min    2743.240000  2158.750000  ...     0.001000     0.000000\n",
      "25%    2966.260000  2452.247500  ...     0.003300    44.368600\n",
      "50%    3011.490000  2499.405000  ...     0.004600    71.900500\n",
      "75%    3056.650000  2538.822500  ...     0.006400   114.749700\n",
      "max    3356.350000  2846.440000  ...     0.028600   737.304800\n",
      "\n",
      "[8 rows x 590 columns]\n"
     ]
    }
   ],
   "source": [
    "print(data_secom.describe())\n",
    "#print(data_secom.dtypes)"
   ]
  },
  {
   "cell_type": "code",
   "execution_count": 146,
   "metadata": {
    "colab": {
     "base_uri": "https://localhost:8080/",
     "height": 127
    },
    "colab_type": "code",
    "id": "zjEW5juT_ObN",
    "outputId": "26ab960f-d206-424b-d7fd-866734fc8926"
   },
   "outputs": [
    {
     "name": "stdout",
     "output_type": "stream",
     "text": [
      "<class 'pandas.core.frame.DataFrame'>\n",
      "RangeIndex: 1567 entries, 0 to 1566\n",
      "Columns: 590 entries, 0 to 589\n",
      "dtypes: float64(590)\n",
      "memory usage: 7.1 MB\n",
      "None\n"
     ]
    }
   ],
   "source": [
    "print(data_secom.info())"
   ]
  },
  {
   "cell_type": "markdown",
   "metadata": {
    "colab_type": "text",
    "id": "dMpkFPhVDzcp"
   },
   "source": [
    "### Removing Duplicates if any"
   ]
  },
  {
   "cell_type": "code",
   "execution_count": 147,
   "metadata": {
    "colab": {
     "base_uri": "https://localhost:8080/",
     "height": 54
    },
    "colab_type": "code",
    "id": "l1vI49s9_SFp",
    "outputId": "80dc920c-93f3-44c7-c0f9-f6c82b9a8414"
   },
   "outputs": [
    {
     "name": "stdout",
     "output_type": "stream",
     "text": [
      "shape before duplicateCheck --  (1567, 590)\n",
      "shape after duplicateCheck --  (1567, 590)\n"
     ]
    }
   ],
   "source": [
    "def duplicateCheck(data):\n",
    "  data = data.drop_duplicates(keep = \"first\")\n",
    "  return data\n",
    "\n",
    "print(\"shape before duplicateCheck -- \",data_secom.shape)\n",
    "data_secom=duplicateCheck(data_secom)\n",
    "print(\"shape after duplicateCheck -- \",data_secom.shape)"
   ]
  },
  {
   "cell_type": "markdown",
   "metadata": {
    "colab_type": "text",
    "id": "AfEH5qo7rGUZ"
   },
   "source": [
    "* There are no duplicate observations"
   ]
  },
  {
   "cell_type": "markdown",
   "metadata": {
    "colab_type": "text",
    "id": "0-bjo3G4DtS0"
   },
   "source": [
    "### Handling Missing Values"
   ]
  },
  {
   "cell_type": "code",
   "execution_count": 148,
   "metadata": {
    "colab": {
     "base_uri": "https://localhost:8080/",
     "height": 127
    },
    "colab_type": "code",
    "id": "My590uHQBjCp",
    "outputId": "8f5d0fa6-036b-43b2-8cb6-b9d126340ca0"
   },
   "outputs": [
    {
     "data": {
      "text/plain": [
       "158    1429\n",
       "157    1429\n",
       "292    1429\n",
       "293    1429\n",
       "220    1341\n",
       "dtype: int64"
      ]
     },
     "execution_count": 148,
     "metadata": {
      "tags": []
     },
     "output_type": "execute_result"
    }
   ],
   "source": [
    "data_secom.isnull().sum().sort_values(ascending=False).head(5)"
   ]
  },
  {
   "cell_type": "code",
   "execution_count": 0,
   "metadata": {
    "colab": {},
    "colab_type": "code",
    "id": "uWLhX_I_AQvr"
   },
   "outputs": [],
   "source": [
    "def knnImputation(data):\n",
    "  numColumnNames = np.array(data.select_dtypes(include=[\"int64\",\"float\"]).columns)\n",
    "  catColumnNames = np.array(data.select_dtypes(include=[\"object\"]).columns)\n",
    "  remColumnNames = np.array(data.select_dtypes(exclude=[\"int64\",\"float\",\"object\"]).columns)\n",
    "\n",
    "  catData = data[catColumnNames]\n",
    "  numData = data[numColumnNames]\n",
    "  remData = data[remColumnNames]\n",
    "  \n",
    "  imputer = KNNImputer()\n",
    "  print(\"-----KNN Imputation-----\")\n",
    "  num_imputed=pd.DataFrame(data=KNN(3).fit_transform(numData), columns=numColumnNames, index=numData.index)\n",
    "  \n",
    "\n",
    "  data = pd.concat([data[catColumnNames],num_imputed,data[remColumnNames]], axis=1)\n",
    "  return data\n",
    "\n",
    "\n",
    "# print(\"shape before knnImputation -- \",data_secom.isnull().sum().sort_values(ascending=False).head(5))\n",
    "# #secom_data = knnImputation(data_secom)\n",
    "# print(\"shape after knnImputation -- \",data_secom.isnull().sum().sort_values(ascending=False).head(5))"
   ]
  },
  {
   "cell_type": "code",
   "execution_count": 150,
   "metadata": {
    "colab": {
     "base_uri": "https://localhost:8080/",
     "height": 366
    },
    "colab_type": "code",
    "id": "DDSXbclMDGZK",
    "outputId": "5620b055-c639-4a99-cb71-b306c435ebba"
   },
   "outputs": [
    {
     "name": "stdout",
     "output_type": "stream",
     "text": [
      "shape before mean,mode imputation --  158    1429\n",
      "157    1429\n",
      "292    1429\n",
      "293    1429\n",
      "220    1341\n",
      "dtype: int64\n",
      "-----mean,mode,median imputation-----\n",
      "shape after mean,mode imputation --  589    0\n",
      "184    0\n",
      "200    0\n",
      "199    0\n",
      "198    0\n",
      "dtype: int64\n",
      "       0        1          2    ...       587       588         589\n",
      "0  3030.93  2564.00  2187.7333  ...  0.016475  0.005283   99.670066\n",
      "1  3095.78  2465.14  2230.4222  ...  0.020100  0.006000  208.204500\n",
      "2  2932.61  2559.94  2186.4111  ...  0.048400  0.014800   82.860200\n",
      "\n",
      "[3 rows x 590 columns]\n"
     ]
    }
   ],
   "source": [
    "def missingValueImputation(data):\n",
    "  index=0\n",
    "  type_l=list(data.dtypes)\n",
    "  column_names=data.columns\n",
    "  print(\"-----mean,mode,median imputation-----\")\n",
    "  \n",
    "  for column_type in type_l:\n",
    "    if column_type=='int64' or column_type=='float64':\n",
    "      data[column_names[index]]=data[column_names[index]].fillna(data[column_names[index]].mean())\n",
    "    else:\n",
    "        data[column_names[index]]=data[column_names[index]].fillna(data[column_names[index]].mode().iloc[0])\n",
    "    index=index+1   \n",
    "\n",
    "  return data\n",
    "\n",
    "\n",
    "print(\"shape before mean,mode imputation -- \",data_secom.isnull().sum().sort_values(ascending=False).head(5))\n",
    "data_secom = missingValueImputation(data_secom)\n",
    "print(\"shape after mean,mode imputation -- \",data_secom.isnull().sum().sort_values(ascending=False).head(5))\n",
    "\n",
    "print(data_secom.head(3))"
   ]
  },
  {
   "cell_type": "markdown",
   "metadata": {
    "colab_type": "text",
    "id": "6dKGwFsXFPLR"
   },
   "source": [
    "#### Removing Variables with uniqueness percent more than 80%"
   ]
  },
  {
   "cell_type": "code",
   "execution_count": 151,
   "metadata": {
    "colab": {
     "base_uri": "https://localhost:8080/",
     "height": 54
    },
    "colab_type": "code",
    "id": "cEJqydLWEuRg",
    "outputId": "04e23d68-5bd2-4b6e-8c43-f5a9d2d3d044"
   },
   "outputs": [
    {
     "name": "stdout",
     "output_type": "stream",
     "text": [
      "shape before  --  (1567, 590)\n",
      "shape after   --  (1567, 448)\n"
     ]
    }
   ],
   "source": [
    "#Removing Unique Value Variables with uniqueness percent more than 80%\n",
    "def uniqueValRemoval(data):\n",
    "    numColumnNames = np.array(data.select_dtypes(include=[\"int64\",\"float\"]).columns)\n",
    "    remColumnNames = np.array(data.select_dtypes(exclude=[\"int64\",\"float\",\"object\"]).columns)\n",
    "\n",
    "    numData = data[numColumnNames]\n",
    "    remData = data[remColumnNames]\n",
    "\n",
    "    for column in numData.columns.values:\n",
    "        col = len(set(numData[column]))/numData.shape[0]\n",
    "        if col > 0.79:\n",
    "            numData.drop(column, axis=1, inplace=True)\n",
    "    data = pd.concat([numData,data[remColumnNames]], axis=1)\n",
    "    return data\n",
    "    \n",
    "print(\"shape before  -- \",data_secom.shape)\n",
    "data_secom = uniqueValRemoval(data_secom)\n",
    "print(\"shape after   -- \",data_secom.shape)"
   ]
  },
  {
   "cell_type": "markdown",
   "metadata": {
    "colab_type": "text",
    "id": "Rt1r9KLDFVGD"
   },
   "source": [
    "#### Scaling Data"
   ]
  },
  {
   "cell_type": "code",
   "execution_count": 152,
   "metadata": {
    "colab": {
     "base_uri": "https://localhost:8080/",
     "height": 193
    },
    "colab_type": "code",
    "id": "J_tMRF8JA9E-",
    "outputId": "92d66b42-4e66-46ec-ce99-8365ec5c363b"
   },
   "outputs": [
    {
     "data": {
      "text/html": [
       "<div>\n",
       "<style scoped>\n",
       "    .dataframe tbody tr th:only-of-type {\n",
       "        vertical-align: middle;\n",
       "    }\n",
       "\n",
       "    .dataframe tbody tr th {\n",
       "        vertical-align: top;\n",
       "    }\n",
       "\n",
       "    .dataframe thead th {\n",
       "        text-align: right;\n",
       "    }\n",
       "</style>\n",
       "<table border=\"1\" class=\"dataframe\">\n",
       "  <thead>\n",
       "    <tr style=\"text-align: right;\">\n",
       "      <th></th>\n",
       "      <th>0</th>\n",
       "      <th>1</th>\n",
       "      <th>2</th>\n",
       "      <th>3</th>\n",
       "      <th>4</th>\n",
       "      <th>5</th>\n",
       "      <th>6</th>\n",
       "      <th>7</th>\n",
       "      <th>8</th>\n",
       "      <th>9</th>\n",
       "      <th>10</th>\n",
       "      <th>11</th>\n",
       "      <th>12</th>\n",
       "      <th>13</th>\n",
       "      <th>14</th>\n",
       "      <th>15</th>\n",
       "      <th>16</th>\n",
       "      <th>17</th>\n",
       "      <th>18</th>\n",
       "      <th>19</th>\n",
       "      <th>20</th>\n",
       "      <th>21</th>\n",
       "      <th>22</th>\n",
       "      <th>23</th>\n",
       "      <th>24</th>\n",
       "      <th>25</th>\n",
       "      <th>26</th>\n",
       "      <th>27</th>\n",
       "      <th>28</th>\n",
       "      <th>29</th>\n",
       "      <th>30</th>\n",
       "      <th>31</th>\n",
       "      <th>32</th>\n",
       "      <th>33</th>\n",
       "      <th>34</th>\n",
       "      <th>35</th>\n",
       "      <th>36</th>\n",
       "      <th>37</th>\n",
       "      <th>38</th>\n",
       "      <th>39</th>\n",
       "      <th>...</th>\n",
       "      <th>408</th>\n",
       "      <th>409</th>\n",
       "      <th>410</th>\n",
       "      <th>411</th>\n",
       "      <th>412</th>\n",
       "      <th>413</th>\n",
       "      <th>414</th>\n",
       "      <th>415</th>\n",
       "      <th>416</th>\n",
       "      <th>417</th>\n",
       "      <th>418</th>\n",
       "      <th>419</th>\n",
       "      <th>420</th>\n",
       "      <th>421</th>\n",
       "      <th>422</th>\n",
       "      <th>423</th>\n",
       "      <th>424</th>\n",
       "      <th>425</th>\n",
       "      <th>426</th>\n",
       "      <th>427</th>\n",
       "      <th>428</th>\n",
       "      <th>429</th>\n",
       "      <th>430</th>\n",
       "      <th>431</th>\n",
       "      <th>432</th>\n",
       "      <th>433</th>\n",
       "      <th>434</th>\n",
       "      <th>435</th>\n",
       "      <th>436</th>\n",
       "      <th>437</th>\n",
       "      <th>438</th>\n",
       "      <th>439</th>\n",
       "      <th>440</th>\n",
       "      <th>441</th>\n",
       "      <th>442</th>\n",
       "      <th>443</th>\n",
       "      <th>444</th>\n",
       "      <th>445</th>\n",
       "      <th>446</th>\n",
       "      <th>447</th>\n",
       "    </tr>\n",
       "  </thead>\n",
       "  <tbody>\n",
       "    <tr>\n",
       "      <th>0</th>\n",
       "      <td>-0.436273</td>\n",
       "      <td>0.033555</td>\n",
       "      <td>-0.050580</td>\n",
       "      <td>0.0</td>\n",
       "      <td>-0.563790</td>\n",
       "      <td>0.266269</td>\n",
       "      <td>0.509826</td>\n",
       "      <td>1.128417</td>\n",
       "      <td>-0.381543</td>\n",
       "      <td>-1.515481</td>\n",
       "      <td>0.0</td>\n",
       "      <td>-0.285874</td>\n",
       "      <td>0.174798</td>\n",
       "      <td>-0.146683</td>\n",
       "      <td>0.735468</td>\n",
       "      <td>-1.737835</td>\n",
       "      <td>-0.874088</td>\n",
       "      <td>-2.887741</td>\n",
       "      <td>-1.522972</td>\n",
       "      <td>-0.842506</td>\n",
       "      <td>-0.636809</td>\n",
       "      <td>-0.958086</td>\n",
       "      <td>0.411076</td>\n",
       "      <td>0.029074</td>\n",
       "      <td>-0.115420</td>\n",
       "      <td>-0.029082</td>\n",
       "      <td>0.305404</td>\n",
       "      <td>0.266364</td>\n",
       "      <td>-0.645798</td>\n",
       "      <td>-0.277120</td>\n",
       "      <td>0.496231</td>\n",
       "      <td>0.0</td>\n",
       "      <td>0.0</td>\n",
       "      <td>0.0</td>\n",
       "      <td>-0.017703</td>\n",
       "      <td>0.041645</td>\n",
       "      <td>-0.862453</td>\n",
       "      <td>0.419433</td>\n",
       "      <td>-0.195486</td>\n",
       "      <td>1.322854</td>\n",
       "      <td>...</td>\n",
       "      <td>-0.390190</td>\n",
       "      <td>-0.900504</td>\n",
       "      <td>-0.362715</td>\n",
       "      <td>-0.372703</td>\n",
       "      <td>-0.983635</td>\n",
       "      <td>-0.306118</td>\n",
       "      <td>-0.555732</td>\n",
       "      <td>-0.811432</td>\n",
       "      <td>-0.347493</td>\n",
       "      <td>0.470027</td>\n",
       "      <td>0.560419</td>\n",
       "      <td>0.610275</td>\n",
       "      <td>0.531334</td>\n",
       "      <td>-8.200826e-14</td>\n",
       "      <td>-3.212172e-14</td>\n",
       "      <td>-3.452799e-14</td>\n",
       "      <td>1.544290e-14</td>\n",
       "      <td>2.177526e-14</td>\n",
       "      <td>2.448264e-14</td>\n",
       "      <td>-1.913066e-14</td>\n",
       "      <td>-9.956414e-15</td>\n",
       "      <td>0.190142</td>\n",
       "      <td>0.034410</td>\n",
       "      <td>-0.226018</td>\n",
       "      <td>-0.120518</td>\n",
       "      <td>-0.226665</td>\n",
       "      <td>-0.031418</td>\n",
       "      <td>-0.229797</td>\n",
       "      <td>-0.135520</td>\n",
       "      <td>-1.885396e-15</td>\n",
       "      <td>-5.735472e-16</td>\n",
       "      <td>4.436053e-16</td>\n",
       "      <td>5.175234e-16</td>\n",
       "      <td>0.118699</td>\n",
       "      <td>-0.204890</td>\n",
       "      <td>-0.093207</td>\n",
       "      <td>-2.528283e-15</td>\n",
       "      <td>-2.759188e-15</td>\n",
       "      <td>-6.054371e-15</td>\n",
       "      <td>-1.665950e-15</td>\n",
       "    </tr>\n",
       "    <tr>\n",
       "      <th>1</th>\n",
       "      <td>1.017137</td>\n",
       "      <td>0.153067</td>\n",
       "      <td>-0.060045</td>\n",
       "      <td>0.0</td>\n",
       "      <td>0.198217</td>\n",
       "      <td>0.322244</td>\n",
       "      <td>0.456999</td>\n",
       "      <td>0.022582</td>\n",
       "      <td>-1.608247</td>\n",
       "      <td>-0.132859</td>\n",
       "      <td>0.0</td>\n",
       "      <td>-0.111557</td>\n",
       "      <td>-0.093159</td>\n",
       "      <td>-1.348004</td>\n",
       "      <td>-0.322234</td>\n",
       "      <td>0.526715</td>\n",
       "      <td>0.400516</td>\n",
       "      <td>0.604455</td>\n",
       "      <td>-0.311560</td>\n",
       "      <td>-0.243685</td>\n",
       "      <td>0.791224</td>\n",
       "      <td>-0.213439</td>\n",
       "      <td>0.624756</td>\n",
       "      <td>0.065119</td>\n",
       "      <td>-0.106092</td>\n",
       "      <td>-0.065126</td>\n",
       "      <td>-4.283560</td>\n",
       "      <td>1.539908</td>\n",
       "      <td>-0.310484</td>\n",
       "      <td>0.433389</td>\n",
       "      <td>-0.247731</td>\n",
       "      <td>0.0</td>\n",
       "      <td>0.0</td>\n",
       "      <td>0.0</td>\n",
       "      <td>-0.054158</td>\n",
       "      <td>0.058456</td>\n",
       "      <td>-0.123389</td>\n",
       "      <td>0.522427</td>\n",
       "      <td>-0.315410</td>\n",
       "      <td>1.043896</td>\n",
       "      <td>...</td>\n",
       "      <td>0.091170</td>\n",
       "      <td>-0.223469</td>\n",
       "      <td>0.079904</td>\n",
       "      <td>0.024633</td>\n",
       "      <td>-0.291884</td>\n",
       "      <td>-0.008702</td>\n",
       "      <td>-0.141962</td>\n",
       "      <td>-0.259298</td>\n",
       "      <td>0.093015</td>\n",
       "      <td>-0.377168</td>\n",
       "      <td>-0.751295</td>\n",
       "      <td>-0.677922</td>\n",
       "      <td>-0.745572</td>\n",
       "      <td>-8.200826e-14</td>\n",
       "      <td>-3.212172e-14</td>\n",
       "      <td>-3.452799e-14</td>\n",
       "      <td>1.544290e-14</td>\n",
       "      <td>2.177526e-14</td>\n",
       "      <td>2.448264e-14</td>\n",
       "      <td>-1.913066e-14</td>\n",
       "      <td>-9.956414e-15</td>\n",
       "      <td>0.256816</td>\n",
       "      <td>1.205944</td>\n",
       "      <td>-0.261137</td>\n",
       "      <td>-0.323417</td>\n",
       "      <td>-0.265730</td>\n",
       "      <td>-0.406218</td>\n",
       "      <td>-0.263493</td>\n",
       "      <td>-0.460054</td>\n",
       "      <td>-1.632264e+00</td>\n",
       "      <td>5.406668e-01</td>\n",
       "      <td>3.089342e-01</td>\n",
       "      <td>2.007880e+00</td>\n",
       "      <td>0.530203</td>\n",
       "      <td>0.406679</td>\n",
       "      <td>0.444706</td>\n",
       "      <td>-9.601744e-01</td>\n",
       "      <td>4.118532e-01</td>\n",
       "      <td>2.501244e-01</td>\n",
       "      <td>1.156689e+00</td>\n",
       "    </tr>\n",
       "    <tr>\n",
       "      <th>2</th>\n",
       "      <td>-0.481289</td>\n",
       "      <td>0.686213</td>\n",
       "      <td>-0.047906</td>\n",
       "      <td>0.0</td>\n",
       "      <td>-0.906210</td>\n",
       "      <td>0.255074</td>\n",
       "      <td>-0.260907</td>\n",
       "      <td>0.327183</td>\n",
       "      <td>0.124204</td>\n",
       "      <td>-0.229321</td>\n",
       "      <td>0.0</td>\n",
       "      <td>-0.335679</td>\n",
       "      <td>0.273326</td>\n",
       "      <td>0.433058</td>\n",
       "      <td>0.008033</td>\n",
       "      <td>0.610692</td>\n",
       "      <td>0.480807</td>\n",
       "      <td>0.756338</td>\n",
       "      <td>-0.684304</td>\n",
       "      <td>-0.080571</td>\n",
       "      <td>-0.326896</td>\n",
       "      <td>-0.286664</td>\n",
       "      <td>-0.224233</td>\n",
       "      <td>-0.363526</td>\n",
       "      <td>-0.172705</td>\n",
       "      <td>0.363519</td>\n",
       "      <td>-1.258029</td>\n",
       "      <td>-4.712242</td>\n",
       "      <td>-0.036961</td>\n",
       "      <td>-2.242749</td>\n",
       "      <td>0.888711</td>\n",
       "      <td>0.0</td>\n",
       "      <td>0.0</td>\n",
       "      <td>0.0</td>\n",
       "      <td>-1.949828</td>\n",
       "      <td>-1.521760</td>\n",
       "      <td>3.105153</td>\n",
       "      <td>-2.199565</td>\n",
       "      <td>-1.082928</td>\n",
       "      <td>-0.070761</td>\n",
       "      <td>...</td>\n",
       "      <td>-0.780939</td>\n",
       "      <td>-0.188183</td>\n",
       "      <td>-0.306382</td>\n",
       "      <td>-0.757351</td>\n",
       "      <td>-0.270752</td>\n",
       "      <td>-0.234965</td>\n",
       "      <td>-1.078814</td>\n",
       "      <td>-0.245007</td>\n",
       "      <td>-0.283718</td>\n",
       "      <td>6.050772</td>\n",
       "      <td>0.229013</td>\n",
       "      <td>0.986646</td>\n",
       "      <td>-0.396160</td>\n",
       "      <td>6.253138e-01</td>\n",
       "      <td>2.021302e+00</td>\n",
       "      <td>-2.234265e+00</td>\n",
       "      <td>6.463483e+00</td>\n",
       "      <td>-2.343664e+00</td>\n",
       "      <td>6.590016e+00</td>\n",
       "      <td>-2.253903e+00</td>\n",
       "      <td>5.144841e+00</td>\n",
       "      <td>0.257279</td>\n",
       "      <td>-0.263745</td>\n",
       "      <td>-0.199823</td>\n",
       "      <td>-0.633805</td>\n",
       "      <td>-0.188395</td>\n",
       "      <td>-0.600996</td>\n",
       "      <td>-0.205046</td>\n",
       "      <td>-0.590505</td>\n",
       "      <td>4.997564e+00</td>\n",
       "      <td>5.219045e+00</td>\n",
       "      <td>4.809624e+00</td>\n",
       "      <td>-2.744816e-01</td>\n",
       "      <td>-1.262780</td>\n",
       "      <td>0.022264</td>\n",
       "      <td>0.014375</td>\n",
       "      <td>2.991151e+00</td>\n",
       "      <td>3.627063e+00</td>\n",
       "      <td>3.321419e+00</td>\n",
       "      <td>-1.791486e-01</td>\n",
       "    </tr>\n",
       "  </tbody>\n",
       "</table>\n",
       "<p>3 rows × 448 columns</p>\n",
       "</div>"
      ],
      "text/plain": [
       "        0         1         2    ...           445           446           447\n",
       "0 -0.436273  0.033555 -0.050580  ... -2.759188e-15 -6.054371e-15 -1.665950e-15\n",
       "1  1.017137  0.153067 -0.060045  ...  4.118532e-01  2.501244e-01  1.156689e+00\n",
       "2 -0.481289  0.686213 -0.047906  ...  3.627063e+00  3.321419e+00 -1.791486e-01\n",
       "\n",
       "[3 rows x 448 columns]"
      ]
     },
     "execution_count": 152,
     "metadata": {
      "tags": []
     },
     "output_type": "execute_result"
    }
   ],
   "source": [
    "data_secom_std = StandardScaler().fit_transform(data_secom)\n",
    "pd.DataFrame(data_secom_std).head(3)"
   ]
  },
  {
   "cell_type": "markdown",
   "metadata": {
    "colab_type": "text",
    "id": "dworVxyWFZGT"
   },
   "source": [
    "#### Covariance Matrix"
   ]
  },
  {
   "cell_type": "code",
   "execution_count": 153,
   "metadata": {
    "colab": {
     "base_uri": "https://localhost:8080/",
     "height": 274
    },
    "colab_type": "code",
    "id": "CoiUBpheEhtJ",
    "outputId": "2f2872eb-f1ed-4841-c248-442f41e620e4"
   },
   "outputs": [
    {
     "name": "stdout",
     "output_type": "stream",
     "text": [
      "(448, 448)\n",
      "[[1567.          468.43070939  150.26063574 ...  -45.98345727\n",
      "   -48.29226299  -51.53858994]\n",
      " [ 468.43070939 1567.          -91.64313851 ...  -61.32000821\n",
      "   -52.7220234  -125.89371108]\n",
      " [ 150.26063574  -91.64313851 1567.         ...  -48.58406411\n",
      "   -40.89863419   79.7759783 ]\n",
      " ...\n",
      " [ -45.98345727  -61.32000821  -48.58406411 ... 1567.\n",
      "  1526.68989519  612.40409403]\n",
      " [ -48.29226299  -52.7220234   -40.89863419 ... 1526.68989519\n",
      "  1567.          609.89421083]\n",
      " [ -51.53858994 -125.89371108   79.7759783  ...  612.40409403\n",
      "   609.89421083 1567.        ]]\n"
     ]
    }
   ],
   "source": [
    "co_matrix = np.matmul(data_secom_std.T,data_secom_std)\n",
    "print(pd.DataFrame(co_matrix).shape)\n",
    "print(co_matrix)"
   ]
  },
  {
   "cell_type": "markdown",
   "metadata": {
    "colab_type": "text",
    "id": "YmAg3NdKF_Bz"
   },
   "source": [
    "### Eigen Values and Vectors"
   ]
  },
  {
   "cell_type": "code",
   "execution_count": 154,
   "metadata": {
    "colab": {
     "base_uri": "https://localhost:8080/",
     "height": 2092
    },
    "colab_type": "code",
    "id": "d9hm8Ig0F_Og",
    "outputId": "d63a62c2-7d35-4b28-8054-5fd12be1a28a"
   },
   "outputs": [
    {
     "name": "stdout",
     "output_type": "stream",
     "text": [
      "(448, 448)\n",
      "[-7.41318960e-13 -5.95718913e-13 -3.88787950e-13 -1.35839245e-13\n",
      " -1.14318432e-13 -1.08846697e-13 -5.25448289e-14 -4.90817954e-14\n",
      " -4.36659405e-14 -3.96220726e-14 -2.43514823e-14 -2.25310354e-14\n",
      " -1.43502516e-14 -1.35435379e-14 -1.25605287e-14 -9.24025871e-15\n",
      " -4.14657125e-15 -2.51253697e-15 -2.11220001e-15 -1.08470899e-15\n",
      " -1.04223310e-15 -7.91350383e-16 -6.80543580e-16 -7.29013736e-17\n",
      " -6.50962747e-17 -4.98863962e-17 -4.66107174e-17 -4.12975152e-17\n",
      " -7.09967886e-18 -6.14886840e-19 -1.09090083e-29 -7.09091088e-30\n",
      " -6.58745078e-30 -5.78496621e-30 -5.09560855e-30 -1.46315246e-30\n",
      " -1.33855589e-30 -1.13341567e-30 -3.38967937e-31 -2.82058757e-31\n",
      " -1.11043805e-31 -2.36910145e-32  5.54896125e-32  7.99146925e-32\n",
      "  1.23762875e-31  1.38824846e-31  1.76735075e-31  2.07355386e-31\n",
      "  2.76635234e-31  2.92578289e-31  3.12711074e-31  5.89374843e-31\n",
      "  8.67462906e-31  1.77613886e-30  2.79884550e-30  3.98721918e-30\n",
      "  4.01231984e-30  4.01667790e-30  4.13896731e-30  5.38710609e-30\n",
      "  6.05546392e-30  6.69273945e-30  9.28828200e-30  1.10936893e-29\n",
      "  1.13581014e-29  1.19662028e-29  4.57589304e-19  1.13517418e-18\n",
      "  1.38355059e-18  1.82556787e-18  1.51635628e-17  7.32751685e-17\n",
      "  7.93411138e-17  8.77057232e-17  8.89121795e-17  1.11116945e-16\n",
      "  1.40348237e-16  2.24999473e-16  3.63388190e-16  9.02512060e-16\n",
      "  9.58238068e-16  9.89245717e-16  1.12843914e-15  1.32804389e-15\n",
      "  1.33604290e-15  1.36017947e-15  1.76546320e-15  2.45892001e-15\n",
      "  2.58439918e-15  7.96283104e-15  8.54488419e-15  1.12854349e-14\n",
      "  1.62569081e-14  1.85478356e-14  2.14470789e-14  2.25619497e-14\n",
      "  2.26134880e-14  2.38050014e-14  3.20273709e-14  3.36324383e-14\n",
      "  3.39536777e-14  3.50117706e-14  3.51961037e-14  3.54077825e-14\n",
      "  3.69865087e-14  3.95112680e-14  4.06449133e-14  4.45845700e-14\n",
      "  4.52982850e-14  5.68424429e-14  6.29916968e-14  6.72295921e-14\n",
      "  6.99330829e-14  7.07622054e-14  7.23819501e-14  8.21079243e-14\n",
      "  8.88940728e-14  9.38087716e-14  1.28409888e-13  1.60842693e-13\n",
      "  1.83789451e-13  3.32791717e-07  1.15325028e-05  1.47133212e-04\n",
      "  4.57263128e-04  6.90638027e-04  4.29223058e-03  4.73196739e-03\n",
      "  6.76247441e-03  8.79371111e-03  1.50541729e-02  1.79132861e-02\n",
      "  1.91702859e-02  2.85964296e-02  3.95366002e-02  5.02868767e-02\n",
      "  5.46949797e-02  6.05561276e-02  6.47251955e-02  1.22869885e-01\n",
      "  1.53125468e-01  1.64344872e-01  1.72534311e-01  1.82339315e-01\n",
      "  2.10795405e-01  2.13066422e-01  2.24514009e-01  2.45767195e-01\n",
      "  2.46906100e-01  2.61692169e-01  4.58557161e-01  4.98748018e-01\n",
      "  5.68370100e-01  6.25550326e-01  7.22162468e-01  9.16303864e-01\n",
      "  9.64574647e-01  1.06508180e+00  1.13782762e+00  1.18868271e+00\n",
      "  1.27086454e+00  1.28615213e+00  1.58035975e+00  1.69409372e+00\n",
      "  1.81562749e+00  1.97945593e+00  2.22079714e+00  2.30247136e+00\n",
      "  2.46850397e+00  2.76752140e+00  3.70383366e+00  3.92001497e+00\n",
      "  4.78041921e+00  5.05666743e+00  5.42990426e+00  5.76131475e+00\n",
      "  6.22718033e+00  6.63117261e+00  7.31384096e+00  7.72453724e+00\n",
      "  8.22957293e+00  8.47590412e+00  8.82114126e+00  8.95482204e+00\n",
      "  9.51352912e+00  1.01603758e+01  1.06435564e+01  1.10861381e+01\n",
      "  1.11336735e+01  1.14651613e+01  1.17029502e+01  1.22949932e+01\n",
      "  1.32056814e+01  1.39992306e+01  1.48861559e+01  1.52228989e+01\n",
      "  1.54660136e+01  1.58500176e+01  1.62796904e+01  1.80796632e+01\n",
      "  1.90441147e+01  2.09969331e+01  2.14510835e+01  2.30922823e+01\n",
      "  2.37407216e+01  2.41602860e+01  2.43204838e+01  2.52437222e+01\n",
      "  2.62726240e+01  2.74481144e+01  2.88370291e+01  2.98825663e+01\n",
      "  3.12755942e+01  3.14678804e+01  3.22971620e+01  3.30371936e+01\n",
      "  3.40776659e+01  3.48620467e+01  3.57561950e+01  3.66947869e+01\n",
      "  3.86624729e+01  3.97969410e+01  4.11614801e+01  4.26756238e+01\n",
      "  4.49223643e+01  4.61235796e+01  4.62381214e+01  4.79120408e+01\n",
      "  4.84998044e+01  5.06377006e+01  5.14435297e+01  5.29958606e+01\n",
      "  5.39656114e+01  5.42408387e+01  5.49800490e+01  5.60962483e+01\n",
      "  5.90945722e+01  6.07332973e+01  6.20420927e+01  6.39034470e+01\n",
      "  6.91717417e+01  7.30783454e+01  7.46374863e+01  8.14721912e+01\n",
      "  8.51757979e+01  8.60905098e+01  9.03314248e+01  9.33574203e+01\n",
      "  9.40709076e+01  1.02105773e+02  1.09314379e+02  1.18018104e+02\n",
      "  1.19472771e+02  1.23194496e+02  1.26190573e+02  1.32597295e+02\n",
      "  1.34460451e+02  1.41653104e+02  1.44518814e+02  1.47591639e+02\n",
      "  1.52457300e+02  1.67775813e+02  1.76389550e+02  1.83679057e+02\n",
      "  1.93266131e+02  2.05042240e+02  2.20149292e+02  2.30760835e+02\n",
      "  2.33279766e+02  2.55208363e+02  2.71570976e+02  2.90602055e+02\n",
      "  3.10949954e+02  3.19283375e+02  3.30124476e+02  3.36035223e+02\n",
      "  3.42906978e+02  3.57158685e+02  3.63085892e+02  3.71253260e+02\n",
      "  3.87313657e+02  4.03156898e+02  4.16383493e+02  4.19973538e+02\n",
      "  4.30780228e+02  4.44044294e+02  4.61765160e+02  4.81020275e+02\n",
      "  4.84654805e+02  4.93085769e+02  4.95765188e+02  5.16328232e+02\n",
      "  5.28716202e+02  5.39822380e+02  5.46508555e+02  5.54959354e+02\n",
      "  5.57892970e+02  5.84520089e+02  5.97974933e+02  6.08949307e+02\n",
      "  6.24086972e+02  6.54888147e+02  6.66260920e+02  6.77259741e+02\n",
      "  6.91498871e+02  7.04096448e+02  7.18679724e+02  7.52720694e+02\n",
      "  7.75468687e+02  7.78383781e+02  7.95336579e+02  8.04585226e+02\n",
      "  8.17669803e+02  8.38637785e+02  8.43399875e+02  8.55261954e+02\n",
      "  8.70878911e+02  9.10823935e+02  9.14473325e+02  9.22084885e+02\n",
      "  9.40376730e+02  9.52050377e+02  9.60280807e+02  9.86842973e+02\n",
      "  1.01528301e+03  1.02924284e+03  1.03649910e+03  1.04434897e+03\n",
      "  1.06164672e+03  1.07871598e+03  1.08417403e+03  1.11578439e+03\n",
      "  1.12485803e+03  1.13277153e+03  1.15108837e+03  1.18261596e+03\n",
      "  1.19259343e+03  1.21622419e+03  1.24827258e+03  1.26677225e+03\n",
      "  1.26853984e+03  1.28874807e+03  1.31803415e+03  1.33358898e+03\n",
      "  1.35172131e+03  1.37243828e+03  1.39308876e+03  1.40941116e+03\n",
      "  1.42501006e+03  1.43714273e+03  1.44966929e+03  1.45708817e+03\n",
      "  1.48340503e+03  1.49594908e+03  1.53324030e+03  1.55318584e+03\n",
      "  1.58865724e+03  1.63200178e+03  1.64353210e+03  1.65333334e+03\n",
      "  1.70519753e+03  1.71060805e+03  1.73304337e+03  1.75078298e+03\n",
      "  1.78667194e+03  1.82352449e+03  1.84257511e+03  1.88817344e+03\n",
      "  1.91403804e+03  1.98215185e+03  1.98612610e+03  2.06072831e+03\n",
      "  2.15639586e+03  2.17167798e+03  2.23096627e+03  2.26195660e+03\n",
      "  2.31425162e+03  2.38277988e+03  2.41474820e+03  2.47902064e+03\n",
      "  2.51123676e+03  2.55045698e+03  2.60034729e+03  2.64568404e+03\n",
      "  2.69338849e+03  2.76249400e+03  2.78556006e+03  2.84813254e+03\n",
      "  2.97614063e+03  2.99819208e+03  3.09995020e+03  3.11921657e+03\n",
      "  3.15795100e+03  3.21469695e+03  3.26076477e+03  3.33047227e+03\n",
      "  3.39781974e+03  3.44923010e+03  3.48840264e+03  3.55039012e+03\n",
      "  3.55928113e+03  3.62096230e+03  3.72347439e+03  3.74991513e+03\n",
      "  3.77886512e+03  3.93282974e+03  4.00194424e+03  4.04892677e+03\n",
      "  4.17768503e+03  4.22591478e+03  4.29001994e+03  4.42955625e+03\n",
      "  4.48635718e+03  4.51230079e+03  4.61758426e+03  4.73859971e+03\n",
      "  4.79116694e+03  4.93712342e+03  5.00481902e+03  5.21015825e+03\n",
      "  5.28880484e+03  5.42230309e+03  5.47457196e+03  5.64687842e+03\n",
      "  5.81208019e+03  6.02683821e+03  6.24103388e+03  6.36824001e+03\n",
      "  6.55391580e+03  6.66397134e+03  6.82439329e+03  7.08612173e+03\n",
      "  7.23476858e+03  7.52473439e+03  7.78666383e+03  8.20118469e+03\n",
      "  8.26288134e+03  8.42768135e+03  8.71836118e+03  8.93128859e+03\n",
      "  9.46728057e+03  1.02805847e+04  1.07781789e+04  1.25479113e+04\n",
      "  1.38921819e+04  1.62086787e+04  1.75571215e+04  1.82938837e+04]\n"
     ]
    }
   ],
   "source": [
    "val,vec = eigh(co_matrix)\n",
    "print(vec.shape)\n",
    "print(val)"
   ]
  },
  {
   "cell_type": "markdown",
   "metadata": {
    "colab_type": "text",
    "id": "VXcQd1vQIF09"
   },
   "source": [
    "### PCA"
   ]
  },
  {
   "cell_type": "code",
   "execution_count": 0,
   "metadata": {
    "colab": {},
    "colab_type": "code",
    "id": "5wL0_gBhHIdx"
   },
   "outputs": [],
   "source": [
    "pca = decomposition.PCA(data_secom_std)\n",
    "pca.n_components = 448\n",
    "data_after_pca = pca.fit_transform(data_secom_std)"
   ]
  },
  {
   "cell_type": "code",
   "execution_count": 156,
   "metadata": {
    "colab": {
     "base_uri": "https://localhost:8080/",
     "height": 2074
    },
    "colab_type": "code",
    "id": "GyL-7TwnHjHM",
    "outputId": "e8374c2b-7ad1-4dab-9b7a-df9d5d6a254a"
   },
   "outputs": [
    {
     "name": "stdout",
     "output_type": "stream",
     "text": [
      "[1.16819181e+01 1.12114441e+01 1.03503696e+01 8.87112509e+00\n",
      " 8.01271474e+00 6.88261745e+00 6.56486892e+00 6.04551761e+00\n",
      " 5.70324942e+00 5.56728044e+00 5.38166114e+00 5.27642486e+00\n",
      " 5.23702726e+00 4.97232684e+00 4.80506666e+00 4.61990331e+00\n",
      " 4.52498195e+00 4.35785012e+00 4.25540954e+00 4.18513141e+00\n",
      " 4.06656450e+00 3.98533453e+00 3.84855569e+00 3.71141775e+00\n",
      " 3.60592492e+00 3.49589525e+00 3.46251794e+00 3.37727001e+00\n",
      " 3.32704869e+00 3.19592530e+00 3.15269694e+00 3.05949358e+00\n",
      " 3.02592574e+00 2.94864895e+00 2.88141813e+00 2.86485133e+00\n",
      " 2.82857998e+00 2.73947633e+00 2.69854073e+00 2.66774268e+00\n",
      " 2.58552157e+00 2.55551995e+00 2.51138553e+00 2.41306840e+00\n",
      " 2.39458182e+00 2.37769757e+00 2.31223646e+00 2.27284874e+00\n",
      " 2.26717121e+00 2.22758789e+00 2.20257350e+00 2.16974441e+00\n",
      " 2.12673836e+00 2.08222527e+00 2.05280776e+00 2.01657152e+00\n",
      " 1.99183689e+00 1.97953397e+00 1.91455433e+00 1.90047295e+00\n",
      " 1.81873087e+00 1.77877399e+00 1.76404470e+00 1.71991602e+00\n",
      " 1.68945341e+00 1.66050274e+00 1.62864430e+00 1.60359946e+00\n",
      " 1.58302723e+00 1.54198480e+00 1.52157080e+00 1.47781074e+00\n",
      " 1.44441673e+00 1.42462725e+00 1.38676755e+00 1.37700885e+00\n",
      " 1.31591846e+00 1.26827976e+00 1.26574192e+00 1.22224651e+00\n",
      " 1.20573017e+00 1.17661246e+00 1.16444731e+00 1.14091440e+00\n",
      " 1.11799679e+00 1.10666882e+00 1.09234230e+00 1.08888731e+00\n",
      " 1.05576842e+00 1.04950965e+00 1.04214673e+00 1.01446823e+00\n",
      " 9.91817265e-01 9.79080652e-01 9.55267609e-01 9.47257366e-01\n",
      " 9.30452218e-01 9.25714742e-01 9.17715664e-01 9.09968108e-01\n",
      " 9.00007127e-01 8.89584139e-01 8.76397369e-01 8.63168142e-01\n",
      " 8.51589388e-01 8.41656546e-01 8.22955345e-01 8.10050986e-01\n",
      " 8.08922255e-01 7.97108930e-01 7.76643798e-01 7.61553915e-01\n",
      " 7.55182608e-01 7.35050048e-01 7.23353467e-01 7.18300144e-01\n",
      " 7.12505998e-01 6.92320582e-01 6.88835236e-01 6.77935328e-01\n",
      " 6.66889510e-01 6.61876818e-01 6.57243196e-01 6.48328871e-01\n",
      " 6.30167926e-01 6.13206134e-01 6.07950432e-01 6.00495996e-01\n",
      " 5.88815380e-01 5.83954869e-01 5.81624480e-01 5.56116801e-01\n",
      " 5.46144288e-01 5.38569524e-01 5.35528598e-01 5.22139082e-01\n",
      " 5.13783669e-01 5.07877764e-01 4.97052223e-01 4.95190733e-01\n",
      " 4.80664556e-01 4.58927027e-01 4.49614590e-01 4.41570160e-01\n",
      " 4.32477484e-01 4.25453972e-01 4.18191665e-01 3.98522971e-01\n",
      " 3.88856518e-01 3.81848616e-01 3.73256762e-01 3.56253493e-01\n",
      " 3.54380175e-01 3.48983752e-01 3.44714163e-01 3.37622096e-01\n",
      " 3.29711515e-01 3.16580580e-01 3.14869584e-01 3.09485827e-01\n",
      " 3.07164927e-01 2.94869196e-01 2.83553189e-01 2.75083160e-01\n",
      " 2.68182336e-01 2.65889842e-01 2.57443741e-01 2.47326728e-01\n",
      " 2.37071047e-01 2.31855614e-01 2.28070680e-01 2.18969973e-01\n",
      " 2.14581879e-01 2.10807456e-01 2.03884659e-01 1.98563189e-01\n",
      " 1.85569639e-01 1.73416970e-01 1.62968303e-01 1.48965368e-01\n",
      " 1.47356855e-01 1.40580646e-01 1.30933742e-01 1.23413877e-01\n",
      " 1.17291863e-01 1.12637005e-01 1.07136534e-01 9.73545976e-02\n",
      " 9.42475342e-02 9.22853218e-02 9.04553664e-02 8.58623567e-02\n",
      " 8.46726021e-02 8.05814640e-02 7.86682605e-02 7.62916800e-02\n",
      " 7.53627739e-02 6.98048395e-02 6.52016430e-02 6.00708222e-02\n",
      " 5.96152109e-02 5.76829022e-02 5.49747828e-02 5.43906755e-02\n",
      " 5.20256649e-02 4.76612301e-02 4.66656101e-02 4.41709717e-02\n",
      " 4.08067989e-02 3.96181946e-02 3.87824376e-02 3.77359976e-02\n",
      " 3.58213591e-02 3.51085881e-02 3.46365509e-02 3.44607991e-02\n",
      " 3.38415457e-02 3.28502744e-02 3.23356964e-02 3.09705009e-02\n",
      " 3.05951729e-02 2.95262589e-02 2.94531160e-02 2.86860564e-02\n",
      " 2.72513562e-02 2.62844700e-02 2.54131169e-02 2.46886800e-02\n",
      " 2.34321755e-02 2.28328193e-02 2.22618434e-02 2.17609616e-02\n",
      " 2.10965476e-02 2.06239859e-02 2.00944319e-02 1.99716438e-02\n",
      " 1.90820985e-02 1.84144502e-02 1.75275316e-02 1.67768991e-02\n",
      " 1.61198737e-02 1.55303217e-02 1.54280243e-02 1.51601032e-02\n",
      " 1.47460296e-02 1.36980099e-02 1.34080033e-02 1.21609928e-02\n",
      " 1.15451234e-02 1.03957155e-02 1.01213395e-02 9.87612615e-03\n",
      " 9.72088052e-03 9.50584670e-03 8.93948311e-03 8.43274673e-03\n",
      " 7.85120896e-03 7.47314830e-03 7.32130349e-03 7.10962551e-03\n",
      " 7.07927080e-03 6.79665161e-03 6.48810717e-03 6.07505053e-03\n",
      " 5.71827716e-03 5.63291268e-03 5.41245474e-03 5.25515512e-03\n",
      " 4.93265469e-03 4.67039653e-03 4.23446527e-03 3.97648808e-03\n",
      " 3.67900048e-03 3.46737181e-03 3.22903412e-03 3.05263040e-03\n",
      " 2.50320241e-03 2.36515560e-03 1.76725505e-03 1.57631160e-03\n",
      " 1.47028822e-03 1.41813355e-03 1.26402039e-03 1.15940453e-03\n",
      " 1.08179675e-03 1.00916970e-03 8.21297656e-04 8.11535469e-04\n",
      " 7.59056647e-04 7.26582131e-04 6.80128866e-04 6.15948050e-04\n",
      " 5.85123796e-04 4.61151001e-04 3.99457424e-04 3.62943870e-04\n",
      " 3.18485324e-04 2.92820665e-04 1.67108665e-04 1.57666731e-04\n",
      " 1.56939460e-04 1.43367822e-04 1.36057741e-04 1.34607538e-04\n",
      " 1.16436344e-04 1.10175166e-04 1.04945640e-04 9.77812697e-05\n",
      " 7.84609736e-05 4.13315425e-05 3.86693024e-05 3.49265516e-05\n",
      " 3.21116710e-05 2.52468711e-05 1.82608107e-05 1.22415619e-05\n",
      " 1.14388800e-05 9.61313726e-06 5.61539662e-06 4.31831061e-06\n",
      " 3.02169054e-06 2.74088798e-06 4.41020452e-07 2.91994335e-07\n",
      " 9.39547966e-08 7.36430604e-09 2.12509927e-10 2.30385211e-30\n",
      " 3.19844681e-31 2.08849422e-31 1.77455612e-31 1.43284278e-31\n",
      " 8.36145190e-32 6.50736266e-32 4.94690457e-32 4.94690457e-32\n",
      " 4.94690457e-32 4.94690457e-32 4.94690457e-32 4.94690457e-32\n",
      " 4.94690457e-32 4.94690457e-32 4.94690457e-32 4.94690457e-32\n",
      " 4.94690457e-32 4.94690457e-32 4.94690457e-32 4.94690457e-32\n",
      " 4.94690457e-32 4.94690457e-32 4.94690457e-32 4.94690457e-32\n",
      " 4.94690457e-32 4.94690457e-32 4.94690457e-32 4.94690457e-32\n",
      " 4.94690457e-32 4.94690457e-32 4.94690457e-32 4.94690457e-32\n",
      " 4.94690457e-32 4.94690457e-32 4.94690457e-32 4.94690457e-32\n",
      " 4.94690457e-32 4.94690457e-32 4.94690457e-32 4.94690457e-32\n",
      " 4.94690457e-32 4.94690457e-32 4.94690457e-32 4.94690457e-32\n",
      " 4.94690457e-32 4.94690457e-32 4.94690457e-32 4.94690457e-32\n",
      " 4.94690457e-32 4.94690457e-32 4.94690457e-32 4.94690457e-32\n",
      " 4.94690457e-32 4.94690457e-32 4.94690457e-32 4.94690457e-32\n",
      " 4.94690457e-32 4.94690457e-32 4.94690457e-32 4.94690457e-32\n",
      " 4.94690457e-32 4.94690457e-32 4.94690457e-32 4.94690457e-32\n",
      " 4.94690457e-32 4.94690457e-32 4.94690457e-32 4.94690457e-32\n",
      " 4.94690457e-32 4.94690457e-32 4.94690457e-32 4.94690457e-32\n",
      " 4.94690457e-32 4.94690457e-32 4.94690457e-32 4.94690457e-32\n",
      " 4.94690457e-32 4.94690457e-32 4.94690457e-32 4.94690457e-32\n",
      " 4.94690457e-32 4.94690457e-32 4.94690457e-32 4.94690457e-32\n",
      " 4.94690457e-32 4.94690457e-32 4.94690457e-32 4.94690457e-32\n",
      " 4.94690457e-32 4.94690457e-32 4.94690457e-32 4.94690457e-32\n",
      " 4.94690457e-32 4.94690457e-32 4.94690457e-32 4.94690457e-32\n",
      " 4.94690457e-32 4.94690457e-32 4.94690457e-32 4.94690457e-32\n",
      " 4.94690457e-32 4.94690457e-32 4.94690457e-32 4.94690457e-32\n",
      " 4.94690457e-32 4.94690457e-32 4.94690457e-32 4.94690457e-32\n",
      " 4.94690457e-32 4.94690457e-32 4.94690457e-32 4.94690457e-32\n",
      " 4.94690457e-32 4.94690457e-32 4.94690457e-32 4.94690457e-32\n",
      " 4.94690457e-32 2.18843891e-32 1.36117725e-32 1.08381762e-32]\n"
     ]
    }
   ],
   "source": [
    "print(pca.explained_variance_)"
   ]
  },
  {
   "cell_type": "code",
   "execution_count": 0,
   "metadata": {
    "colab": {},
    "colab_type": "code",
    "id": "LsYnEdJNKFqv"
   },
   "outputs": [],
   "source": [
    "pca_variance_ratio = pca.explained_variance_ratio_\n",
    "#print(pca_variance_ratio)\n",
    "cum_sum = pca.explained_variance_ratio_.cumsum()"
   ]
  },
  {
   "cell_type": "code",
   "execution_count": 158,
   "metadata": {
    "colab": {
     "base_uri": "https://localhost:8080/",
     "height": 283
    },
    "colab_type": "code",
    "id": "NuMFDXMNNXyk",
    "outputId": "bf29d9d7-9ac5-4e6f-b056-f168e176e85f"
   },
   "outputs": [
    {
     "data": {
      "image/png": "[encoded data removed]",
      "text/plain": [
       "<Figure size 432x288 with 1 Axes>"
      ]
     },
     "metadata": {
      "tags": []
     },
     "output_type": "display_data"
    }
   ],
   "source": [
    "plt.plot(cum_sum)\n",
    "plt.xlabel('Number of Principal components')\n",
    "plt.ylabel('Cumulative Variance')\n",
    "plt.show()"
   ]
  },
  {
   "cell_type": "markdown",
   "metadata": {
    "colab_type": "text",
    "id": "TCs0F9MPOctw"
   },
   "source": [
    " * From the above plot, It is clear that about 175-180 PC's explains 97% of the total variance  "
   ]
  },
  {
   "cell_type": "markdown",
   "metadata": {
    "colab_type": "text",
    "id": "bAtEsUlLqPH6"
   },
   "source": [
    "### Top 7 PCA's :"
   ]
  },
  {
   "cell_type": "code",
   "execution_count": 0,
   "metadata": {
    "colab": {},
    "colab_type": "code",
    "id": "-6-5R4gIOU7M"
   },
   "outputs": [],
   "source": [
    "pca.n_components = 7\n",
    "top7_PC = pca.fit_transform(data_secom_std)\n",
    "top7_PC = pd.DataFrame(data = top7_PC,columns=['PC1','PC2','PC3','PC4','PC5','PC6','PC7'])"
   ]
  },
  {
   "cell_type": "code",
   "execution_count": 160,
   "metadata": {
    "colab": {
     "base_uri": "https://localhost:8080/",
     "height": 219
    },
    "colab_type": "code",
    "id": "r5pbB55SOiFN",
    "outputId": "45781e14-b3c8-4e55-9ea3-66847cc397e2"
   },
   "outputs": [
    {
     "name": "stdout",
     "output_type": "stream",
     "text": [
      "         PC1       PC2       PC3       PC4        PC5        PC6       PC7\n",
      "0  -3.721422  0.803246 -0.684454 -5.111066  -0.706876  -0.763248  1.907183\n",
      "1  -2.062812 -0.826410 -0.601408 -5.052047   1.465052   0.240227  1.084550\n",
      "2  -0.696433  1.095633 -0.092085 -2.097104   0.307654  -0.099776 -0.052415\n",
      "3  -7.117859  5.528154  0.667446 -1.345640 -11.049400  10.960879  7.325135\n",
      "4  -2.742399  1.358254  0.090670  0.862488  -2.901231   0.160136 -0.115931\n",
      "5  -3.134677  2.035217 -0.373877 -3.906683  -0.162156  -2.031996  0.645295\n",
      "6  -4.763442  1.408984 -0.236927 -1.211007  -0.294178  -1.197185  0.146758\n",
      "7  -1.755028  0.807090 -0.901421 -4.537623   2.112149  -0.883512 -0.387896\n",
      "8 -12.976344  4.745244 -0.647062  4.508363   8.882897  -3.619363 -0.732832\n",
      "9  -3.960559  1.242945 -1.064311 -6.023346   2.434281   0.522143  1.744336\n"
     ]
    }
   ],
   "source": [
    "print(top7_PC.head(10))"
   ]
  }
 ],
 "metadata": {
  "colab": {
   "collapsed_sections": [],
   "name": "pca_secom.ipynb",
   "provenance": [],
   "version": "0.3.2"
  },
  "kernelspec": {
   "display_name": "Python 3",
   "language": "python",
   "name": "python3"
  },
  "language_info": {
   "codemirror_mode": {
    "name": "ipython",
    "version": 3
   },
   "file_extension": ".py",
   "mimetype": "text/x-python",
   "name": "python",
   "nbconvert_exporter": "python",
   "pygments_lexer": "ipython3",
   "version": "3.7.1"
  }
 },
 "nbformat": 4,
 "nbformat_minor": 1
}
